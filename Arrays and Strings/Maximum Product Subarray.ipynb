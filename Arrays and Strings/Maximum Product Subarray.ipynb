{
 "cells": [
  {
   "cell_type": "markdown",
   "metadata": {},
   "source": [
    "MAXIMUM PRODUCT SUBARRAY"
   ]
  },
  {
   "cell_type": "code",
   "execution_count": 4,
   "metadata": {},
   "outputs": [],
   "source": [
    "def max_product(arr):\n",
    "    if len(arr) == 1:\n",
    "        return arr[0]\n",
    "    pp, np = 1, 1\n",
    "    hasPos, hasZero = False, False\n",
    "    maxi = 0\n",
    "    for i in arr:\n",
    "        if(i>0):\n",
    "            hasPos = True\n",
    "            pp *= i\n",
    "            if(np != 1):\n",
    "                np *= i\n",
    "        elif(i<0):\n",
    "            temp = pp\n",
    "            pp = max(1,np*i)\n",
    "            np = temp*i\n",
    "        else:\n",
    "            np = pp = 1\n",
    "            hasZero = True\n",
    "        maxi = max(maxi,pp)\n",
    "    if(maxi==1):\n",
    "        if(hasPos):\n",
    "            return maxi\n",
    "        elif(hasZero):\n",
    "            return 0\n",
    "    return maxi"
   ]
  },
  {
   "cell_type": "code",
   "execution_count": 10,
   "metadata": {},
   "outputs": [
    {
     "data": {
      "text/plain": [
       "240"
      ]
     },
     "execution_count": 10,
     "metadata": {},
     "output_type": "execute_result"
    }
   ],
   "source": [
    "arr = [-2,4,-5,6,0,5,-5]\n",
    "max_product(arr)"
   ]
  },
  {
   "cell_type": "code",
   "execution_count": null,
   "metadata": {},
   "outputs": [],
   "source": []
  },
  {
   "cell_type": "code",
   "execution_count": 3,
   "metadata": {},
   "outputs": [],
   "source": []
  },
  {
   "cell_type": "code",
   "execution_count": null,
   "metadata": {},
   "outputs": [],
   "source": [
    "\n"
   ]
  },
  {
   "cell_type": "code",
   "execution_count": null,
   "metadata": {},
   "outputs": [],
   "source": []
  }
 ],
 "metadata": {
  "kernelspec": {
   "display_name": "Python 3",
   "language": "python",
   "name": "python3"
  },
  "language_info": {
   "codemirror_mode": {
    "name": "ipython",
    "version": 3
   },
   "file_extension": ".py",
   "mimetype": "text/x-python",
   "name": "python",
   "nbconvert_exporter": "python",
   "pygments_lexer": "ipython3",
   "version": "3.7.1"
  }
 },
 "nbformat": 4,
 "nbformat_minor": 4
}
