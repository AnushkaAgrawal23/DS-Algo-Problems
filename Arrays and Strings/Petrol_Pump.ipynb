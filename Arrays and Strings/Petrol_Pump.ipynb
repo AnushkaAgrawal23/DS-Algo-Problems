{
 "cells": [
  {
   "cell_type": "markdown",
   "metadata": {},
   "source": [
    "PETROL PUMP ALGO"
   ]
  },
  {
   "cell_type": "code",
   "execution_count": 3,
   "metadata": {},
   "outputs": [],
   "source": [
    "def pump(petrol,cost):\n",
    "    n = len(petrol)\n",
    "    net = 0\n",
    "    curr = 0\n",
    "    start = 0\n",
    "    for i in range(n):\n",
    "        net += petrol[i] - cost[i]\n",
    "        curr += petrol[i] - cost[i]\n",
    "        if(curr<0):\n",
    "            curr = 0\n",
    "            start = i+1\n",
    "    if(net<0):\n",
    "        return -1\n",
    "    return start"
   ]
  },
  {
   "cell_type": "code",
   "execution_count": 4,
   "metadata": {},
   "outputs": [
    {
     "data": {
      "text/plain": [
       "3"
      ]
     },
     "execution_count": 4,
     "metadata": {},
     "output_type": "execute_result"
    }
   ],
   "source": [
    "petrol = [10,20,30,40,50,60]\n",
    "cost = [30,40,50,40,10,20]\n",
    "pump(petrol,cost)"
   ]
  },
  {
   "cell_type": "code",
   "execution_count": null,
   "metadata": {},
   "outputs": [],
   "source": []
  },
  {
   "cell_type": "code",
   "execution_count": null,
   "metadata": {},
   "outputs": [],
   "source": []
  }
 ],
 "metadata": {
  "kernelspec": {
   "display_name": "Python 3",
   "language": "python",
   "name": "python3"
  },
  "language_info": {
   "codemirror_mode": {
    "name": "ipython",
    "version": 3
   },
   "file_extension": ".py",
   "mimetype": "text/x-python",
   "name": "python",
   "nbconvert_exporter": "python",
   "pygments_lexer": "ipython3",
   "version": "3.7.1"
  }
 },
 "nbformat": 4,
 "nbformat_minor": 4
}
