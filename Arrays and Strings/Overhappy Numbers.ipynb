{
 "cells": [
  {
   "cell_type": "markdown",
   "metadata": {},
   "source": [
    "OverHappy Numbers"
   ]
  },
  {
   "cell_type": "code",
   "execution_count": 6,
   "metadata": {},
   "outputs": [],
   "source": [
    "def update(num):\n",
    "    summ = 0\n",
    "    for x in num:\n",
    "        summ = summ + x*x\n",
    "    return summ\n",
    "def check(num,map1):\n",
    "    if(num == 1):\n",
    "        return True\n",
    "    elif(map1[num] == True):\n",
    "        return False\n",
    "    map1[num] = True\n",
    "    num = update(num)\n",
    "    return check(num,map1)\n",
    "def number(num):\n",
    "    map1 = {}\n",
    "    return check(num,map1)"
   ]
  },
  {
   "cell_type": "code",
   "execution_count": null,
   "metadata": {},
   "outputs": [],
   "source": [
    "num = 19\n",
    "number(num)"
   ]
  },
  {
   "cell_type": "code",
   "execution_count": null,
   "metadata": {},
   "outputs": [],
   "source": []
  }
 ],
 "metadata": {
  "kernelspec": {
   "display_name": "Python 3",
   "language": "python",
   "name": "python3"
  },
  "language_info": {
   "codemirror_mode": {
    "name": "ipython",
    "version": 3
   },
   "file_extension": ".py",
   "mimetype": "text/x-python",
   "name": "python",
   "nbconvert_exporter": "python",
   "pygments_lexer": "ipython3",
   "version": "3.7.1"
  }
 },
 "nbformat": 4,
 "nbformat_minor": 4
}
