{
 "cells": [
  {
   "cell_type": "markdown",
   "metadata": {},
   "source": [
    "ZERO SUM SUBARRAYS"
   ]
  },
  {
   "cell_type": "code",
   "execution_count": 20,
   "metadata": {},
   "outputs": [],
   "source": [
    "# Number of zero sum subarrays\n",
    "def combination(v,n):\n",
    "    ans  = 1\n",
    "    for i in range(n):\n",
    "        ans *= v/(i+1)\n",
    "        v -= 1\n",
    "    return int(ans)\n",
    "def sum_subarray(arr):\n",
    "    n = len(arr)\n",
    "    map1 = {}\n",
    "    prefix_sum = []\n",
    "    prefix_sum.append(0)\n",
    "    summ = 0\n",
    "    count = 0\n",
    "    for i in range(n):\n",
    "        summ += arr[i]\n",
    "        prefix_sum.append(summ)\n",
    "    for i in range(n):\n",
    "        if prefix_sum[i] in map1:\n",
    "            map1[prefix_sum[i]] += 1\n",
    "        else:\n",
    "            map1[prefix_sum[i]] = 1\n",
    "    for k,v in map1.items():\n",
    "        if(v>1):\n",
    "            count += combination(v,2)\n",
    "    return count"
   ]
  },
  {
   "cell_type": "code",
   "execution_count": 21,
   "metadata": {},
   "outputs": [
    {
     "data": {
      "text/plain": [
       "5"
      ]
     },
     "execution_count": 21,
     "metadata": {},
     "output_type": "execute_result"
    }
   ],
   "source": [
    "arr = [4,5,-3,1,-3,2,-6,4,11]\n",
    "sum_subarray(arr)"
   ]
  },
  {
   "cell_type": "code",
   "execution_count": null,
   "metadata": {},
   "outputs": [],
   "source": []
  }
 ],
 "metadata": {
  "kernelspec": {
   "display_name": "Python 3",
   "language": "python",
   "name": "python3"
  },
  "language_info": {
   "codemirror_mode": {
    "name": "ipython",
    "version": 3
   },
   "file_extension": ".py",
   "mimetype": "text/x-python",
   "name": "python",
   "nbconvert_exporter": "python",
   "pygments_lexer": "ipython3",
   "version": "3.7.1"
  }
 },
 "nbformat": 4,
 "nbformat_minor": 4
}
