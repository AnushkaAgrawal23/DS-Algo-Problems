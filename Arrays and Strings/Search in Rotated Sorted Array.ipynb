{
 "cells": [
  {
   "cell_type": "markdown",
   "metadata": {},
   "source": [
    "Search in Rotated Sorted Array"
   ]
  },
  {
   "cell_type": "code",
   "execution_count": 20,
   "metadata": {},
   "outputs": [],
   "source": [
    "def search(arr,target):\n",
    "    n = len(arr)\n",
    "    s = 0\n",
    "    e = n-1\n",
    "    while s <= e:\n",
    "        mid = (s + e)//2\n",
    "        #print(mid)\n",
    "        if (arr[mid] == target):\n",
    "            return mid\n",
    "        elif (arr[mid]>arr[n-1]):\n",
    "            if(arr[mid]<target or target<arr[0]):\n",
    "                s = mid + 1\n",
    "            else:\n",
    "                e = mid - 1\n",
    "        elif (arr[mid]<arr[0]):\n",
    "            if(arr[mid]>target or target>arr[n-1]):\n",
    "                e = mid - 1\n",
    "            else:\n",
    "                s = mid + 1\n",
    "    return -1\n",
    "        "
   ]
  },
  {
   "cell_type": "code",
   "execution_count": 21,
   "metadata": {},
   "outputs": [
    {
     "data": {
      "text/plain": [
       "2"
      ]
     },
     "execution_count": 21,
     "metadata": {},
     "output_type": "execute_result"
    }
   ],
   "source": [
    "arr = [5,6,7,8,9,0,1,2,4]\n",
    "search(arr,7)"
   ]
  },
  {
   "cell_type": "code",
   "execution_count": null,
   "metadata": {},
   "outputs": [],
   "source": []
  }
 ],
 "metadata": {
  "kernelspec": {
   "display_name": "Python 3",
   "language": "python",
   "name": "python3"
  },
  "language_info": {
   "codemirror_mode": {
    "name": "ipython",
    "version": 3
   },
   "file_extension": ".py",
   "mimetype": "text/x-python",
   "name": "python",
   "nbconvert_exporter": "python",
   "pygments_lexer": "ipython3",
   "version": "3.7.1"
  }
 },
 "nbformat": 4,
 "nbformat_minor": 4
}
