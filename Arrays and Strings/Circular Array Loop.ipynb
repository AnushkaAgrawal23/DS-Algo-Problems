{
 "cells": [
  {
   "cell_type": "markdown",
   "metadata": {},
   "source": [
    "Circular Array Loop"
   ]
  },
  {
   "cell_type": "code",
   "execution_count": 2,
   "metadata": {},
   "outputs": [],
   "source": [
    "# Function for next index\n",
    "def next(arr,i):\n",
    "    next_index = (i+arr[i]+n) % n\n",
    "    return next_index\n",
    "# Function for checking circular loop (cycle)\n",
    "def cycle(arr,n):\n",
    "    for i in range(n):\n",
    "        if(arr[i]==0):\n",
    "            continue\n",
    "        s = i   # slow pointer\n",
    "        f = i   # fast pointer\n",
    "        # same direction cycle condition check\n",
    "        while(arr[s]*arr[next(arr,s)] and arr[f]*arr[next(arr,f)] and arr[f]*arr[next(arr,next(arr,f))]):\n",
    "            s = next(arr,s)    # slow takes one step\n",
    "            f = next(arr,next(arr,f))  # fast takes two steps\n",
    "            if(s == f):\n",
    "                # That means cycle is present but cycle length should be > 1\n",
    "                if(s == next(arr,s)):\n",
    "                    break\n",
    "                return True\n",
    "        # If cycle doesn't exists, mark 0 at positive index\n",
    "        s = i\n",
    "        value = arr[s]\n",
    "        while (value*arr[s] > 0):\n",
    "            x = s\n",
    "            s = next(arr,s)\n",
    "            arr[x] = 0\n",
    "    return False\n",
    "                "
   ]
  },
  {
   "cell_type": "code",
   "execution_count": 3,
   "metadata": {},
   "outputs": [
    {
     "data": {
      "text/plain": [
       "True"
      ]
     },
     "execution_count": 3,
     "metadata": {},
     "output_type": "execute_result"
    }
   ],
   "source": [
    "arr = [2,-1,1,2,2]\n",
    "n = len(arr)\n",
    "cycle(arr,n)"
   ]
  },
  {
   "cell_type": "code",
   "execution_count": null,
   "metadata": {},
   "outputs": [],
   "source": []
  }
 ],
 "metadata": {
  "kernelspec": {
   "display_name": "Python 3",
   "language": "python",
   "name": "python3"
  },
  "language_info": {
   "codemirror_mode": {
    "name": "ipython",
    "version": 3
   },
   "file_extension": ".py",
   "mimetype": "text/x-python",
   "name": "python",
   "nbconvert_exporter": "python",
   "pygments_lexer": "ipython3",
   "version": "3.7.1"
  }
 },
 "nbformat": 4,
 "nbformat_minor": 4
}
