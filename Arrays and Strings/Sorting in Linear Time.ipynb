{
 "cells": [
  {
   "cell_type": "markdown",
   "metadata": {},
   "source": [
    "SORTING IN LINEAR TIME"
   ]
  },
  {
   "cell_type": "code",
   "execution_count": 20,
   "metadata": {},
   "outputs": [],
   "source": [
    "def linear_sorting(arr):\n",
    "    n = len(arr)\n",
    "    l = 0\n",
    "    r = n-1\n",
    "    c = 0\n",
    "    while c<=r:\n",
    "        if(arr[c]==0):\n",
    "            arr[c],arr[l] = arr[l],arr[c]\n",
    "            c += 1\n",
    "            l += 1\n",
    "        elif(arr[c]==2):\n",
    "            arr[c],arr[r] = arr[r],arr[c]\n",
    "            r -= 1\n",
    "        else:\n",
    "            c += 1\n",
    "    return arr"
   ]
  },
  {
   "cell_type": "code",
   "execution_count": 21,
   "metadata": {},
   "outputs": [
    {
     "data": {
      "text/plain": [
       "[0, 0, 0, 1, 2, 2, 2]"
      ]
     },
     "execution_count": 21,
     "metadata": {},
     "output_type": "execute_result"
    }
   ],
   "source": [
    "arr = [0,2,1,2,2,0,0]\n",
    "linear_sorting(arr)"
   ]
  },
  {
   "cell_type": "code",
   "execution_count": null,
   "metadata": {},
   "outputs": [],
   "source": []
  },
  {
   "cell_type": "code",
   "execution_count": null,
   "metadata": {},
   "outputs": [],
   "source": []
  }
 ],
 "metadata": {
  "kernelspec": {
   "display_name": "Python 3",
   "language": "python",
   "name": "python3"
  },
  "language_info": {
   "codemirror_mode": {
    "name": "ipython",
    "version": 3
   },
   "file_extension": ".py",
   "mimetype": "text/x-python",
   "name": "python",
   "nbconvert_exporter": "python",
   "pygments_lexer": "ipython3",
   "version": "3.7.1"
  }
 },
 "nbformat": 4,
 "nbformat_minor": 4
}
