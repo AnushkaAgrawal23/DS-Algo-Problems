{
 "cells": [
  {
   "cell_type": "markdown",
   "metadata": {},
   "source": [
    "WORD DISTANCE I"
   ]
  },
  {
   "cell_type": "code",
   "execution_count": 1,
   "metadata": {},
   "outputs": [],
   "source": [
    "def dist(arr,word1,word2):\n",
    "    n = len(arr)\n",
    "    w1 = -1\n",
    "    w2 = -1\n",
    "    minn = n\n",
    "    for i in range(n):\n",
    "        if(word1==arr[i]):\n",
    "            w1 = i\n",
    "        elif(word2==arr[i]):\n",
    "            w2 = i\n",
    "        elif(w1!=-1 and w2!=-1):\n",
    "            minn = min(minn,abs(w1-w2))\n",
    "    return minn"
   ]
  },
  {
   "cell_type": "code",
   "execution_count": 3,
   "metadata": {},
   "outputs": [
    {
     "data": {
      "text/plain": [
       "2"
      ]
     },
     "execution_count": 3,
     "metadata": {},
     "output_type": "execute_result"
    }
   ],
   "source": [
    "arr = ['i','have','to','do','it','anyhow']\n",
    "word1 = 'have'\n",
    "word2 = 'do'\n",
    "dist(arr,word1,word2)"
   ]
  },
  {
   "cell_type": "code",
   "execution_count": null,
   "metadata": {},
   "outputs": [],
   "source": []
  }
 ],
 "metadata": {
  "kernelspec": {
   "display_name": "Python 3",
   "language": "python",
   "name": "python3"
  },
  "language_info": {
   "codemirror_mode": {
    "name": "ipython",
    "version": 3
   },
   "file_extension": ".py",
   "mimetype": "text/x-python",
   "name": "python",
   "nbconvert_exporter": "python",
   "pygments_lexer": "ipython3",
   "version": "3.7.1"
  }
 },
 "nbformat": 4,
 "nbformat_minor": 4
}
