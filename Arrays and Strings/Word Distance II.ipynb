{
 "cells": [
  {
   "cell_type": "markdown",
   "metadata": {},
   "source": [
    "WORD DISTANCE II"
   ]
  },
  {
   "cell_type": "code",
   "execution_count": 18,
   "metadata": {},
   "outputs": [],
   "source": [
    "def dist(arr,w1,w2):\n",
    "    n = len(arr)\n",
    "    if(w1==w2):\n",
    "        p = -1\n",
    "        mini = n\n",
    "        for i in range(n):\n",
    "            if(arr[i]==w1):\n",
    "                if(p==-1):\n",
    "                    p = i\n",
    "                else:\n",
    "                    mini = min(mini,abs(i-p))\n",
    "                    p = i\n",
    "        return mini\n",
    "    \n",
    "    else:\n",
    "        minimum = n\n",
    "        f = -1\n",
    "        s = -1\n",
    "        for i in range(n):\n",
    "            if(arr[i]==w1):\n",
    "                f = i\n",
    "            elif(arr[i]==w2):\n",
    "                s = i\n",
    "            elif(f!=-1 and s!=-1):\n",
    "                minimum = min(minimum,abs(f-s))\n",
    "        return minimum"
   ]
  },
  {
   "cell_type": "code",
   "execution_count": 19,
   "metadata": {},
   "outputs": [
    {
     "data": {
      "text/plain": [
       "4"
      ]
     },
     "execution_count": 19,
     "metadata": {},
     "output_type": "execute_result"
    }
   ],
   "source": [
    "arr = [\"I\",\"will\",\"be\",\"my\",\"best\",\"version\",\"my\"]\n",
    "w1 = \"will\"\n",
    "w2 = \"version\"\n",
    "dist(arr,w1,w2)"
   ]
  },
  {
   "cell_type": "code",
   "execution_count": null,
   "metadata": {},
   "outputs": [],
   "source": []
  },
  {
   "cell_type": "code",
   "execution_count": null,
   "metadata": {},
   "outputs": [],
   "source": []
  }
 ],
 "metadata": {
  "kernelspec": {
   "display_name": "Python 3",
   "language": "python",
   "name": "python3"
  },
  "language_info": {
   "codemirror_mode": {
    "name": "ipython",
    "version": 3
   },
   "file_extension": ".py",
   "mimetype": "text/x-python",
   "name": "python",
   "nbconvert_exporter": "python",
   "pygments_lexer": "ipython3",
   "version": "3.7.1"
  }
 },
 "nbformat": 4,
 "nbformat_minor": 4
}
