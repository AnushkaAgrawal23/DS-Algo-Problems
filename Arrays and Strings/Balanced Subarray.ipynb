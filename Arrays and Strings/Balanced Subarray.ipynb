{
 "cells": [
  {
   "cell_type": "markdown",
   "metadata": {},
   "source": [
    "BALANCED SUBARRAY ALGO"
   ]
  },
  {
   "cell_type": "code",
   "execution_count": 19,
   "metadata": {},
   "outputs": [],
   "source": [
    "def balanced(arr):\n",
    "    n = len(arr)\n",
    "    sum1 = 0\n",
    "    ans = 0\n",
    "    map1 = {}\n",
    "    map1[0] = -1\n",
    "    for i in range(n):\n",
    "        if (arr[i] == 0):\n",
    "            sum1 += 1\n",
    "        else:\n",
    "            sum1 -= 1\n",
    "        if sum1 in map1:\n",
    "            ans = max(ans,i-map1[sum1])\n",
    "        else:\n",
    "            map1[sum1] = i\n",
    "    return ans"
   ]
  },
  {
   "cell_type": "code",
   "execution_count": 20,
   "metadata": {},
   "outputs": [
    {
     "data": {
      "text/plain": [
       "6"
      ]
     },
     "execution_count": 20,
     "metadata": {},
     "output_type": "execute_result"
    }
   ],
   "source": [
    "arr = [1,0,1,0,1,1,0]\n",
    "balanced(arr)"
   ]
  },
  {
   "cell_type": "code",
   "execution_count": null,
   "metadata": {},
   "outputs": [],
   "source": []
  },
  {
   "cell_type": "code",
   "execution_count": null,
   "metadata": {},
   "outputs": [],
   "source": []
  }
 ],
 "metadata": {
  "kernelspec": {
   "display_name": "Python 3",
   "language": "python",
   "name": "python3"
  },
  "language_info": {
   "codemirror_mode": {
    "name": "ipython",
    "version": 3
   },
   "file_extension": ".py",
   "mimetype": "text/x-python",
   "name": "python",
   "nbconvert_exporter": "python",
   "pygments_lexer": "ipython3",
   "version": "3.7.1"
  }
 },
 "nbformat": 4,
 "nbformat_minor": 4
}
