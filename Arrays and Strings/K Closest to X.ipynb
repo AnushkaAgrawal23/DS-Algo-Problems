{
 "cells": [
  {
   "cell_type": "markdown",
   "metadata": {},
   "source": [
    "K CLOSEST TO X"
   ]
  },
  {
   "cell_type": "code",
   "execution_count": 3,
   "metadata": {},
   "outputs": [],
   "source": [
    "def k_closest(arr,x,k):\n",
    "    n = len(arr)\n",
    "    curr_sum = 0\n",
    "    summ = 0\n",
    "    ans = []\n",
    "    pos = 0\n",
    "    for i in range(k):\n",
    "        curr_sum += (x-arr[i])\n",
    "        summ = curr_sum\n",
    "    for i in range(1,n-k):\n",
    "        curr_sum -= (x-arr[i-1])\n",
    "        curr_sum += (x-arr[i+k-1])\n",
    "        if(curr_sum>summ):\n",
    "            curr_sum = summ\n",
    "            pos = i\n",
    "    for i in range(k):\n",
    "        ans.append(arr[pos+i])\n",
    "    return ans"
   ]
  },
  {
   "cell_type": "code",
   "execution_count": 7,
   "metadata": {},
   "outputs": [
    {
     "data": {
      "text/plain": [
       "[1, 2, 3, 4]"
      ]
     },
     "execution_count": 7,
     "metadata": {},
     "output_type": "execute_result"
    }
   ],
   "source": [
    "arr = [1,2,3,4,5,6]\n",
    "x = 3\n",
    "k = 4\n",
    "k_closest(arr,x,k)"
   ]
  },
  {
   "cell_type": "code",
   "execution_count": null,
   "metadata": {},
   "outputs": [],
   "source": []
  }
 ],
 "metadata": {
  "kernelspec": {
   "display_name": "Python 3",
   "language": "python",
   "name": "python3"
  },
  "language_info": {
   "codemirror_mode": {
    "name": "ipython",
    "version": 3
   },
   "file_extension": ".py",
   "mimetype": "text/x-python",
   "name": "python",
   "nbconvert_exporter": "python",
   "pygments_lexer": "ipython3",
   "version": "3.7.1"
  }
 },
 "nbformat": 4,
 "nbformat_minor": 4
}
