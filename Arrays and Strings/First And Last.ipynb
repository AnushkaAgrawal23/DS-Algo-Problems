{
 "cells": [
  {
   "cell_type": "markdown",
   "metadata": {},
   "source": [
    "FIRST AND LAST"
   ]
  },
  {
   "cell_type": "code",
   "execution_count": 1,
   "metadata": {},
   "outputs": [],
   "source": [
    "def first(arr,target):\n",
    "    n = len(arr)\n",
    "    s = 0\n",
    "    e = n-1\n",
    "    f = 0\n",
    "    while s<=e:\n",
    "        mid = (s+e)//2\n",
    "        if(arr[mid]==target):\n",
    "            f = mid\n",
    "            e = mid-1\n",
    "        elif(arr[mid]<target):\n",
    "            s = mid+1\n",
    "        elif(arr[mid]>target):\n",
    "            e = mid-1\n",
    "    return f"
   ]
  },
  {
   "cell_type": "code",
   "execution_count": 2,
   "metadata": {},
   "outputs": [
    {
     "data": {
      "text/plain": [
       "2"
      ]
     },
     "execution_count": 2,
     "metadata": {},
     "output_type": "execute_result"
    }
   ],
   "source": [
    "arr = [1,2,3,3,3,4,5]\n",
    "first(arr,3)"
   ]
  },
  {
   "cell_type": "code",
   "execution_count": 3,
   "metadata": {},
   "outputs": [],
   "source": [
    "def last(arr,target):\n",
    "    n = len(arr)\n",
    "    s = 0\n",
    "    e = n-1\n",
    "    l = 0\n",
    "    while s<=e:\n",
    "        mid = (s+e)//2\n",
    "        if(arr[mid]==target):\n",
    "            l = mid\n",
    "            s = mid+1\n",
    "        elif(arr[mid]<target):\n",
    "            s = mid+1\n",
    "        elif(arr[mid]>target):\n",
    "            e = mid-1\n",
    "    return l"
   ]
  },
  {
   "cell_type": "code",
   "execution_count": 4,
   "metadata": {},
   "outputs": [
    {
     "data": {
      "text/plain": [
       "4"
      ]
     },
     "execution_count": 4,
     "metadata": {},
     "output_type": "execute_result"
    }
   ],
   "source": [
    "arr = [1,2,3,3,3,4,5]\n",
    "last(arr,3)"
   ]
  },
  {
   "cell_type": "code",
   "execution_count": null,
   "metadata": {},
   "outputs": [],
   "source": []
  }
 ],
 "metadata": {
  "kernelspec": {
   "display_name": "Python 3",
   "language": "python",
   "name": "python3"
  },
  "language_info": {
   "codemirror_mode": {
    "name": "ipython",
    "version": 3
   },
   "file_extension": ".py",
   "mimetype": "text/x-python",
   "name": "python",
   "nbconvert_exporter": "python",
   "pygments_lexer": "ipython3",
   "version": "3.7.1"
  }
 },
 "nbformat": 4,
 "nbformat_minor": 4
}
