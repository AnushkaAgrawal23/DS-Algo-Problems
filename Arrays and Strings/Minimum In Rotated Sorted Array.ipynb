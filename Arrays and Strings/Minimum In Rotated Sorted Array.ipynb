{
 "cells": [
  {
   "cell_type": "markdown",
   "metadata": {},
   "source": [
    "MINIMUM IN ROTATED SORTED ARRAY"
   ]
  },
  {
   "cell_type": "code",
   "execution_count": 6,
   "metadata": {},
   "outputs": [],
   "source": [
    "def min(arr):\n",
    "    n = len(arr)\n",
    "    s = 0\n",
    "    e = n-1\n",
    "    \n",
    "    while s<e:\n",
    "        mid = (s+e)//2\n",
    "        if(arr[s]<arr[e]):\n",
    "            return arr[s]\n",
    "        elif(arr[mid]<arr[mid-1]):\n",
    "            return arr[mid]\n",
    "        elif(arr[mid]>arr[s]):\n",
    "            s = mid+1\n",
    "        elif(arr[mid]<arr[e]):\n",
    "            e = mid-1"
   ]
  },
  {
   "cell_type": "code",
   "execution_count": 7,
   "metadata": {},
   "outputs": [
    {
     "data": {
      "text/plain": [
       "4"
      ]
     },
     "execution_count": 7,
     "metadata": {},
     "output_type": "execute_result"
    }
   ],
   "source": [
    "arr = [5,7,8,9,1,2,3]\n",
    "min(arr)"
   ]
  },
  {
   "cell_type": "code",
   "execution_count": null,
   "metadata": {},
   "outputs": [],
   "source": []
  }
 ],
 "metadata": {
  "kernelspec": {
   "display_name": "Python 3",
   "language": "python",
   "name": "python3"
  },
  "language_info": {
   "codemirror_mode": {
    "name": "ipython",
    "version": 3
   },
   "file_extension": ".py",
   "mimetype": "text/x-python",
   "name": "python",
   "nbconvert_exporter": "python",
   "pygments_lexer": "ipython3",
   "version": "3.7.1"
  }
 },
 "nbformat": 4,
 "nbformat_minor": 4
}
