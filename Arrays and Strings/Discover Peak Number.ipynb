{
 "cells": [
  {
   "cell_type": "markdown",
   "metadata": {},
   "source": [
    "DISCOVER PEAK NUMBER"
   ]
  },
  {
   "cell_type": "code",
   "execution_count": 3,
   "metadata": {},
   "outputs": [],
   "source": [
    "# Brute Force Approach - O(N) Time and O(1) Space\n",
    "def peak(arr):\n",
    "    if(n==1):\n",
    "        return arr[0]\n",
    "    elif(arr[0]>=arr[1]):\n",
    "        return 0\n",
    "    elif(arr[n-1]>=arr[n-2]):\n",
    "        return n-1\n",
    "    for i in range(n):\n",
    "        if(arr[i]>=arr[i-1] and arr[i]>=arr[i+1]):\n",
    "            return i"
   ]
  },
  {
   "cell_type": "code",
   "execution_count": 6,
   "metadata": {},
   "outputs": [],
   "source": [
    "# Optimal Approach (Divide and Conquer(Binary Search)) - O(logN) and O(1) Space\n",
    "def peak1(arr,s,e,n):\n",
    "    n = len(arr)\n",
    "    while s<=e:\n",
    "        mid = (s+e)//2\n",
    "        if((mid==0 or arr[mid]>=arr[mid-1]) and (mid==n-1 or arr[mid]>=arr[mid+1])):\n",
    "            return mid\n",
    "        elif(mid>0 and arr[mid]<arr[mid-1]):\n",
    "            return peak(arr,s,mid-1,n)\n",
    "        else:\n",
    "            return peak(arr,mid+1,e,n)"
   ]
  },
  {
   "cell_type": "code",
   "execution_count": 7,
   "metadata": {},
   "outputs": [
    {
     "data": {
      "text/plain": [
       "2"
      ]
     },
     "execution_count": 7,
     "metadata": {},
     "output_type": "execute_result"
    }
   ],
   "source": [
    "arr = [1,3,20,4,1,0]\n",
    "n = len(arr)\n",
    "peak1(arr,0,n-1,n)"
   ]
  },
  {
   "cell_type": "code",
   "execution_count": null,
   "metadata": {},
   "outputs": [],
   "source": []
  }
 ],
 "metadata": {
  "kernelspec": {
   "display_name": "Python 3",
   "language": "python",
   "name": "python3"
  },
  "language_info": {
   "codemirror_mode": {
    "name": "ipython",
    "version": 3
   },
   "file_extension": ".py",
   "mimetype": "text/x-python",
   "name": "python",
   "nbconvert_exporter": "python",
   "pygments_lexer": "ipython3",
   "version": "3.7.1"
  }
 },
 "nbformat": 4,
 "nbformat_minor": 4
}
