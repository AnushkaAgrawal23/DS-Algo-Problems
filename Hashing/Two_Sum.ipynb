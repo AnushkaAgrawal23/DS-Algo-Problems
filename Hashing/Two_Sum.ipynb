{
 "cells": [
  {
   "cell_type": "code",
   "execution_count": 5,
   "metadata": {},
   "outputs": [],
   "source": [
    "# 2 SUM\n",
    "# Optimal Approach - Hashing\n",
    "# Time Complexity - O(n) and Space Complexity - O(n)\n",
    "def two_sum(arr, target):\n",
    "    n = len(arr)\n",
    "    map1 = {}\n",
    "    for i in range(n):\n",
    "        if target-arr[i] in map1:\n",
    "            print(\"The indices are {} and {}\".format(map1[target-arr[i]],i))\n",
    "        else:\n",
    "            map1[arr[i]] = i"
   ]
  },
  {
   "cell_type": "code",
   "execution_count": 9,
   "metadata": {},
   "outputs": [
    {
     "name": "stdout",
     "output_type": "stream",
     "text": [
      "The indices are 0 and 3\n"
     ]
    }
   ],
   "source": [
    "arr = [2,5,3,1]\n",
    "two_sum(arr,3)"
   ]
  },
  {
   "cell_type": "code",
   "execution_count": null,
   "metadata": {},
   "outputs": [],
   "source": []
  }
 ],
 "metadata": {
  "kernelspec": {
   "display_name": "Python 3",
   "language": "python",
   "name": "python3"
  },
  "language_info": {
   "codemirror_mode": {
    "name": "ipython",
    "version": 3
   },
   "file_extension": ".py",
   "mimetype": "text/x-python",
   "name": "python",
   "nbconvert_exporter": "python",
   "pygments_lexer": "ipython3",
   "version": "3.7.1"
  }
 },
 "nbformat": 4,
 "nbformat_minor": 4
}
