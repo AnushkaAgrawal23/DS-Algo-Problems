{
 "cells": [
  {
   "cell_type": "code",
   "execution_count": null,
   "metadata": {},
   "outputs": [],
   "source": [
    "# Count number of subarrays with given XOR\n",
    "# Optimal Approach - Hashing\n",
    "# Time O(N) and Space O(N)\n",
    "def count_xor(arr,k):\n",
    "    n = len(arr)\n",
    "    map1 = {}\n",
    "    cnt = 0\n",
    "    xor = 0\n",
    "    for i in range(n):\n",
    "        xor = xor ^ arr[i]\n",
    "        if (xor^k) in map1:\n",
    "            cnt += map1[xor^k]\n",
    "        if(xor==k):\n",
    "            cnt = cnt + 1\n",
    "        if xor in map1:\n",
    "            map1[xor] = map1[xor] + 1\n",
    "        else:\n",
    "            map1[xor] = 1\n",
    "    return cnt"
   ]
  },
  {
   "cell_type": "code",
   "execution_count": null,
   "metadata": {},
   "outputs": [],
   "source": []
  }
 ],
 "metadata": {
  "kernelspec": {
   "display_name": "Python 3",
   "language": "python",
   "name": "python3"
  },
  "language_info": {
   "codemirror_mode": {
    "name": "ipython",
    "version": 3
   },
   "file_extension": ".py",
   "mimetype": "text/x-python",
   "name": "python",
   "nbconvert_exporter": "python",
   "pygments_lexer": "ipython3",
   "version": "3.7.1"
  }
 },
 "nbformat": 4,
 "nbformat_minor": 4
}
