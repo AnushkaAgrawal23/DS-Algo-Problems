{
 "cells": [
  {
   "cell_type": "code",
   "execution_count": 17,
   "metadata": {},
   "outputs": [],
   "source": [
    "# 4 SUM\n",
    "# Brute Force Approach - O(N^3)\n",
    "def four_sum(arr,target):\n",
    "    n = len(arr)\n",
    "    ll = []\n",
    "    arr = sorted(arr)\n",
    "    for i in range(0,n-2):\n",
    "        for j in range(i+1,n-1):\n",
    "            l = j + 1\n",
    "            r = n - 1\n",
    "            while(l<r):\n",
    "                if(arr[i]+arr[j]+arr[l]+arr[r]==target):\n",
    "                    ll.append([i,j,l,r])\n",
    "                    l += 1\n",
    "                    r -= 1\n",
    "                elif(arr[i]+arr[j]+arr[l]+arr[r]<target):\n",
    "                    l += 1\n",
    "                else:\n",
    "                    r -= 1\n",
    "    return ll\n",
    "                    "
   ]
  },
  {
   "cell_type": "code",
   "execution_count": 22,
   "metadata": {},
   "outputs": [
    {
     "name": "stdout",
     "output_type": "stream",
     "text": [
      "[3, 7, 8, 9]\n",
      "[4, 7, 8, 9]\n",
      "[5, 6, 8, 9]\n",
      "[5, 7, 6, 9]\n",
      "[5, 8, 6, 9]\n",
      "[7, 8, 5, 6]\n",
      "[7, 9, 5, 6]\n",
      "[8, 9, 5, 6]\n"
     ]
    }
   ],
   "source": [
    "arr = [1,1,1,2,2,3,3,4,4,4]\n",
    "four_sum(arr,14)"
   ]
  },
  {
   "cell_type": "code",
   "execution_count": 19,
   "metadata": {},
   "outputs": [],
   "source": [
    "# Optimal Approach - Hashmap\n",
    "# Time Complexity - O(N^2) and Space Complexity - O(N^2)\n",
    "def four_sum(arr,target):\n",
    "    n = len(arr)\n",
    "    map1 = {}\n",
    "    for i in range(n-1):\n",
    "        for j in range(i+1,n):\n",
    "            map1[arr[i]+arr[j]] = [i,j]\n",
    "    for i in range(n-1):\n",
    "        for j in range(i+1,n):\n",
    "            summ = arr[i]+arr[j]\n",
    "            if(target-summ) in map1:\n",
    "                p = map1[target-summ]\n",
    "                if(p[0]!=i and p[0]!=j and p[1]!=i and p[1]!=j):\n",
    "                    print([i,j,p[0],p[1]])"
   ]
  },
  {
   "cell_type": "code",
   "execution_count": 21,
   "metadata": {},
   "outputs": [
    {
     "name": "stdout",
     "output_type": "stream",
     "text": [
      "[3, 7, 8, 9]\n",
      "[4, 7, 8, 9]\n",
      "[5, 6, 8, 9]\n",
      "[5, 7, 6, 9]\n",
      "[5, 8, 6, 9]\n",
      "[7, 8, 5, 6]\n",
      "[7, 9, 5, 6]\n",
      "[8, 9, 5, 6]\n"
     ]
    }
   ],
   "source": [
    "arr = [1,1,1,2,2,3,3,4,4,4]\n",
    "four_sum(arr,14)"
   ]
  },
  {
   "cell_type": "code",
   "execution_count": null,
   "metadata": {},
   "outputs": [],
   "source": []
  }
 ],
 "metadata": {
  "kernelspec": {
   "display_name": "Python 3",
   "language": "python",
   "name": "python3"
  },
  "language_info": {
   "codemirror_mode": {
    "name": "ipython",
    "version": 3
   },
   "file_extension": ".py",
   "mimetype": "text/x-python",
   "name": "python",
   "nbconvert_exporter": "python",
   "pygments_lexer": "ipython3",
   "version": "3.7.1"
  }
 },
 "nbformat": 4,
 "nbformat_minor": 4
}
