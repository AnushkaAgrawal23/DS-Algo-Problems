{
 "cells": [
  {
   "cell_type": "code",
   "execution_count": 1,
   "metadata": {},
   "outputs": [],
   "source": [
    "# Largest SubArray with Zero Sum\n",
    "# Optimal Approach - Hashing\n",
    "# Time O(N) and Space O(N)\n",
    "def largest_subarray(arr):\n",
    "    n = len(arr)\n",
    "    map1 = {}\n",
    "    maxi = 0\n",
    "    sum1 = 0\n",
    "    for i in range(n):\n",
    "        sum1 += arr[i]\n",
    "        if(sum1 == 0):\n",
    "            maxi = i+1\n",
    "        else:\n",
    "            if sum1 in map1:\n",
    "                maxi = max(maxi,i-map1[sum1])\n",
    "            else:\n",
    "                map1[sum1] = i\n",
    "    return maxi"
   ]
  },
  {
   "cell_type": "code",
   "execution_count": null,
   "metadata": {},
   "outputs": [],
   "source": []
  },
  {
   "cell_type": "code",
   "execution_count": 14,
   "metadata": {},
   "outputs": [],
   "source": []
  },
  {
   "cell_type": "code",
   "execution_count": null,
   "metadata": {},
   "outputs": [],
   "source": []
  },
  {
   "cell_type": "code",
   "execution_count": null,
   "metadata": {},
   "outputs": [],
   "source": []
  }
 ],
 "metadata": {
  "kernelspec": {
   "display_name": "Python 3",
   "language": "python",
   "name": "python3"
  },
  "language_info": {
   "codemirror_mode": {
    "name": "ipython",
    "version": 3
   },
   "file_extension": ".py",
   "mimetype": "text/x-python",
   "name": "python",
   "nbconvert_exporter": "python",
   "pygments_lexer": "ipython3",
   "version": "3.7.1"
  }
 },
 "nbformat": 4,
 "nbformat_minor": 4
}
