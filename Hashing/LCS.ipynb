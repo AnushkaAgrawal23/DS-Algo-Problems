{
 "cells": [
  {
   "cell_type": "code",
   "execution_count": 6,
   "metadata": {},
   "outputs": [],
   "source": [
    "# Longest Consecutive Sequence\n",
    "# Brute Force Approach\n",
    "def lcs(arr):\n",
    "    n = len(arr)\n",
    "    arr = sorted(arr)\n",
    "    length = 1\n",
    "    max_l = 1\n",
    "    for i in range(1,n):\n",
    "        if (arr[i-1] == arr[i]-1):\n",
    "            length = length + 1\n",
    "        else:\n",
    "            length = 1\n",
    "        max_l = max(max_l,length)\n",
    "    return max_l"
   ]
  },
  {
   "cell_type": "code",
   "execution_count": 9,
   "metadata": {},
   "outputs": [
    {
     "data": {
      "text/plain": [
       "5"
      ]
     },
     "execution_count": 9,
     "metadata": {},
     "output_type": "execute_result"
    }
   ],
   "source": [
    "arr = [1,2,3,4,5,10,11,12]\n",
    "lcs(arr)"
   ]
  },
  {
   "cell_type": "code",
   "execution_count": 14,
   "metadata": {},
   "outputs": [],
   "source": [
    "# Optimal Approach - Hashing (Start from the minimal number of sequence without sorting)\n",
    "# Time Complexity - O(N) and Space Complexity - O(N)\n",
    "def lcs(arr):\n",
    "    n = len(arr)\n",
    "    map1 = {}\n",
    "    length = 1\n",
    "    max_l = 1\n",
    "    for i in range(n):\n",
    "        map1[arr[i]] = True     # Pushing all elements in the hashmap\n",
    "    for i in range(n):\n",
    "        if not arr[i]-1 in map1:\n",
    "            current_num = arr[i]\n",
    "            length = 1\n",
    "            while (current_num+1) in map1:\n",
    "                current_num += 1\n",
    "                length += 1\n",
    "            max_l = max(max_l,length)\n",
    "    return max_l\n",
    "            "
   ]
  },
  {
   "cell_type": "code",
   "execution_count": 19,
   "metadata": {},
   "outputs": [
    {
     "data": {
      "text/plain": [
       "5"
      ]
     },
     "execution_count": 19,
     "metadata": {},
     "output_type": "execute_result"
    }
   ],
   "source": [
    "arr = [102,4,100,101,1,3,2,5]\n",
    "lcs(arr)"
   ]
  },
  {
   "cell_type": "code",
   "execution_count": null,
   "metadata": {},
   "outputs": [],
   "source": []
  }
 ],
 "metadata": {
  "kernelspec": {
   "display_name": "Python 3",
   "language": "python",
   "name": "python3"
  },
  "language_info": {
   "codemirror_mode": {
    "name": "ipython",
    "version": 3
   },
   "file_extension": ".py",
   "mimetype": "text/x-python",
   "name": "python",
   "nbconvert_exporter": "python",
   "pygments_lexer": "ipython3",
   "version": "3.7.1"
  }
 },
 "nbformat": 4,
 "nbformat_minor": 4
}
