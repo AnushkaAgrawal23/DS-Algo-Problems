{
 "cells": [
  {
   "cell_type": "code",
   "execution_count": 5,
   "metadata": {},
   "outputs": [],
   "source": [
    "# Longest Substring without Repeating Characters\n",
    "# Time O(N) and Space O(N)\n",
    "def long_substr(string):\n",
    "    n = len(string)\n",
    "    map1 = {}\n",
    "    left,right = 0,0\n",
    "    length = 0\n",
    "    while(right<n):\n",
    "        if string[right] in map1:\n",
    "            left = max(left,map1[string[right]]+1)\n",
    "        map1[string[right]] = right\n",
    "        length = max(length,right-left+1)\n",
    "        right = right + 1\n",
    "    return length\n",
    "    "
   ]
  },
  {
   "cell_type": "code",
   "execution_count": 7,
   "metadata": {},
   "outputs": [
    {
     "data": {
      "text/plain": [
       "5"
      ]
     },
     "execution_count": 7,
     "metadata": {},
     "output_type": "execute_result"
    }
   ],
   "source": [
    "string = \"abacabde\"\n",
    "long_substr(string)"
   ]
  },
  {
   "cell_type": "code",
   "execution_count": null,
   "metadata": {},
   "outputs": [],
   "source": []
  }
 ],
 "metadata": {
  "kernelspec": {
   "display_name": "Python 3",
   "language": "python",
   "name": "python3"
  },
  "language_info": {
   "codemirror_mode": {
    "name": "ipython",
    "version": 3
   },
   "file_extension": ".py",
   "mimetype": "text/x-python",
   "name": "python",
   "nbconvert_exporter": "python",
   "pygments_lexer": "ipython3",
   "version": "3.7.1"
  }
 },
 "nbformat": 4,
 "nbformat_minor": 4
}
