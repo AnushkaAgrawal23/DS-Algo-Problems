{
 "cells": [
  {
   "cell_type": "code",
   "execution_count": 7,
   "metadata": {},
   "outputs": [],
   "source": [
    "# Job Sequencing Problem\n",
    "def jobs(arr,t):\n",
    "    n = len(arr)\n",
    "    arr = sorted(arr,key = lambda x:x[1],reverse = True)\n",
    "    result = [False]*t\n",
    "    job = ['-1']*t\n",
    "    for i in range(n):\n",
    "        for j in range(min(t-1,arr[i][0]-1),-1,-1):\n",
    "            if result[j] is False:\n",
    "                result[j] = True\n",
    "                job[j] = arr[i]\n",
    "                break\n",
    "    print(job)\n",
    "        "
   ]
  },
  {
   "cell_type": "code",
   "execution_count": 8,
   "metadata": {},
   "outputs": [
    {
     "name": "stdout",
     "output_type": "stream",
     "text": [
      "[(2, 27), (2, 100), (3, 15)]\n"
     ]
    }
   ],
   "source": [
    "arr = [(2,100),(1,19),(2,27),(1,25),(3,15)]\n",
    "jobs(arr,3)"
   ]
  },
  {
   "cell_type": "code",
   "execution_count": null,
   "metadata": {},
   "outputs": [],
   "source": []
  }
 ],
 "metadata": {
  "kernelspec": {
   "display_name": "Python 3",
   "language": "python",
   "name": "python3"
  },
  "language_info": {
   "codemirror_mode": {
    "name": "ipython",
    "version": 3
   },
   "file_extension": ".py",
   "mimetype": "text/x-python",
   "name": "python",
   "nbconvert_exporter": "python",
   "pygments_lexer": "ipython3",
   "version": "3.7.1"
  }
 },
 "nbformat": 4,
 "nbformat_minor": 4
}
