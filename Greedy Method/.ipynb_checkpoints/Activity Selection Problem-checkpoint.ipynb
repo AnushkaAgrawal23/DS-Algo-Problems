{
 "cells": [
  {
   "cell_type": "code",
   "execution_count": 3,
   "metadata": {},
   "outputs": [],
   "source": [
    "# Activity Selection Problem\n",
    "def max_activity(arr):\n",
    "    n = len(arr)\n",
    "    arr = sorted(arr,key = lambda x:x[1])\n",
    "    start = arr[0][0]\n",
    "    end = arr[0][1]\n",
    "    count = 1\n",
    "    for i in range(n):\n",
    "        if(arr[i][0]>=end):\n",
    "            count = count + 1\n",
    "            start = arr[i][0]\n",
    "            end = arr[i][1]\n",
    "        else:\n",
    "            continue\n",
    "    return count\n",
    "        "
   ]
  },
  {
   "cell_type": "code",
   "execution_count": 6,
   "metadata": {},
   "outputs": [
    {
     "data": {
      "text/plain": [
       "2"
      ]
     },
     "execution_count": 6,
     "metadata": {},
     "output_type": "execute_result"
    }
   ],
   "source": [
    "arr = [(12,25),(20,30),(10,20)]\n",
    "arr1 = [(1,3),(4,6),(7,8)]\n",
    "max_activity(arr)"
   ]
  },
  {
   "cell_type": "code",
   "execution_count": null,
   "metadata": {},
   "outputs": [],
   "source": []
  }
 ],
 "metadata": {
  "kernelspec": {
   "display_name": "Python 3",
   "language": "python",
   "name": "python3"
  },
  "language_info": {
   "codemirror_mode": {
    "name": "ipython",
    "version": 3
   },
   "file_extension": ".py",
   "mimetype": "text/x-python",
   "name": "python",
   "nbconvert_exporter": "python",
   "pygments_lexer": "ipython3",
   "version": "3.7.1"
  }
 },
 "nbformat": 4,
 "nbformat_minor": 4
}
