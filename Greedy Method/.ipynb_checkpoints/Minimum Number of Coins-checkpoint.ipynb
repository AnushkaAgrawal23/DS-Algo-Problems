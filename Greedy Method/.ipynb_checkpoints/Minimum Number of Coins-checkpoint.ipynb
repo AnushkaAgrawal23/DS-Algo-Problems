{
 "cells": [
  {
   "cell_type": "code",
   "execution_count": 7,
   "metadata": {},
   "outputs": [],
   "source": [
    "# MININUM NUMBER OF COINS TO PAY AMOUNT\n",
    "def min_coins(arr,amount):\n",
    "    arr = sorted(arr,reverse = True)\n",
    "    res = 0\n",
    "    c = 0\n",
    "    for i in range(len(arr)):\n",
    "        if (arr[i]<= amount):\n",
    "            c = int(amount/arr[i])\n",
    "            res = res + c\n",
    "            amount = amount - c*arr[i]\n",
    "            if(amount==0):\n",
    "                break\n",
    "    return res"
   ]
  },
  {
   "cell_type": "code",
   "execution_count": 8,
   "metadata": {},
   "outputs": [
    {
     "data": {
      "text/plain": [
       "6"
      ]
     },
     "execution_count": 8,
     "metadata": {},
     "output_type": "execute_result"
    }
   ],
   "source": [
    "arr = [1,2,5,10]\n",
    "amount = 52\n",
    "min_coins(arr,amount)"
   ]
  },
  {
   "cell_type": "code",
   "execution_count": null,
   "metadata": {},
   "outputs": [],
   "source": []
  }
 ],
 "metadata": {
  "kernelspec": {
   "display_name": "Python 3",
   "language": "python",
   "name": "python3"
  },
  "language_info": {
   "codemirror_mode": {
    "name": "ipython",
    "version": 3
   },
   "file_extension": ".py",
   "mimetype": "text/x-python",
   "name": "python",
   "nbconvert_exporter": "python",
   "pygments_lexer": "ipython3",
   "version": "3.7.1"
  }
 },
 "nbformat": 4,
 "nbformat_minor": 4
}
