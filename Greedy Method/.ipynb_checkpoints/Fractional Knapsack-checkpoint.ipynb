{
 "cells": [
  {
   "cell_type": "code",
   "execution_count": 14,
   "metadata": {},
   "outputs": [],
   "source": [
    "# Fractional Knapsack Problem\n",
    "def my_cmp(ele):\n",
    "    res = int(ele[0]/ele[1])\n",
    "    return res\n",
    "def fractional_knapsack(arr,weight):\n",
    "    n = len(arr)\n",
    "    curr_cap = weight\n",
    "    res = 0\n",
    "    arr = sorted(arr,reverse = True,key = my_cmp)\n",
    "    for i in range(n):\n",
    "        if(arr[i][1]<=curr_cap):\n",
    "            curr_cap -= arr[i][1]\n",
    "            res += arr[i][0]\n",
    "        else:\n",
    "            res += arr[i][0]*(curr_cap/arr[i][1])\n",
    "    return int(res)\n",
    "            "
   ]
  },
  {
   "cell_type": "code",
   "execution_count": 15,
   "metadata": {},
   "outputs": [
    {
     "data": {
      "text/plain": [
       "1140"
      ]
     },
     "execution_count": 15,
     "metadata": {},
     "output_type": "execute_result"
    }
   ],
   "source": [
    "arr = [(600,50),(500,20),(400,30)]\n",
    "fractional_knapsack(arr,70)"
   ]
  },
  {
   "cell_type": "code",
   "execution_count": null,
   "metadata": {},
   "outputs": [],
   "source": []
  }
 ],
 "metadata": {
  "kernelspec": {
   "display_name": "Python 3",
   "language": "python",
   "name": "python3"
  },
  "language_info": {
   "codemirror_mode": {
    "name": "ipython",
    "version": 3
   },
   "file_extension": ".py",
   "mimetype": "text/x-python",
   "name": "python",
   "nbconvert_exporter": "python",
   "pygments_lexer": "ipython3",
   "version": "3.7.1"
  }
 },
 "nbformat": 4,
 "nbformat_minor": 4
}
