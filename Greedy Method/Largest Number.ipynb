{
 "cells": [
  {
   "cell_type": "code",
   "execution_count": 7,
   "metadata": {},
   "outputs": [],
   "source": [
    "# Largest Number with Number of digits and Given Sum\n",
    "def largest_num(digits,summ):\n",
    "    res = [0]*digits\n",
    "    if(summ > 9*digits):\n",
    "        print(\"Not Possible\")\n",
    "    for i in range(0,digits):\n",
    "        if(summ >= 9):\n",
    "            res[i] = 9\n",
    "            summ = summ - 9\n",
    "        else:\n",
    "            res[i] = summ\n",
    "            summ = 0\n",
    "    num = \"\".join([str(i) for i in res])\n",
    "    print(num)"
   ]
  },
  {
   "cell_type": "code",
   "execution_count": 8,
   "metadata": {},
   "outputs": [
    {
     "name": "stdout",
     "output_type": "stream",
     "text": [
      "994\n"
     ]
    }
   ],
   "source": [
    "largest_num(3,22)"
   ]
  },
  {
   "cell_type": "code",
   "execution_count": null,
   "metadata": {},
   "outputs": [],
   "source": []
  }
 ],
 "metadata": {
  "kernelspec": {
   "display_name": "Python 3",
   "language": "python",
   "name": "python3"
  },
  "language_info": {
   "codemirror_mode": {
    "name": "ipython",
    "version": 3
   },
   "file_extension": ".py",
   "mimetype": "text/x-python",
   "name": "python",
   "nbconvert_exporter": "python",
   "pygments_lexer": "ipython3",
   "version": "3.7.1"
  }
 },
 "nbformat": 4,
 "nbformat_minor": 4
}
