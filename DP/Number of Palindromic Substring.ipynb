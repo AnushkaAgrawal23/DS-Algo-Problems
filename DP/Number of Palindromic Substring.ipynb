{
 "cells": [
  {
   "cell_type": "markdown",
   "metadata": {},
   "source": [
    "NUMBER OF PALINDROMIC SUBSTRINGS"
   ]
  },
  {
   "cell_type": "code",
   "execution_count": 7,
   "metadata": {},
   "outputs": [],
   "source": [
    "# Dynamic Programming\n",
    "def pal(string):\n",
    "    n = len(string)\n",
    "    dp = [[0]*(n) for i in range(n)]\n",
    "    for i in range(n):\n",
    "        dp[i][i] = 1\n",
    "    for i in range(n-1):\n",
    "        if(string[i]==string[i+1]):\n",
    "            dp[i][i+1] = 1\n",
    "    for i in range(2,n):\n",
    "        k = 0\n",
    "        j = i\n",
    "        while(j<n):\n",
    "            if(string[k]==string[j] and dp[k+1][j-1]):\n",
    "                dp[k][j] = 1\n",
    "            else:\n",
    "                dp[k][j] = 0\n",
    "            k = k+1\n",
    "            j = j+1\n",
    "    ans = 0\n",
    "    for i in range(n):\n",
    "        for j in range(n):\n",
    "            if(dp[i][j]):\n",
    "                ans = ans + 1\n",
    "    return ans"
   ]
  },
  {
   "cell_type": "code",
   "execution_count": 10,
   "metadata": {},
   "outputs": [
    {
     "data": {
      "text/plain": [
       "6"
      ]
     },
     "execution_count": 10,
     "metadata": {},
     "output_type": "execute_result"
    }
   ],
   "source": [
    "string =\"abba\"\n",
    "pal(string)"
   ]
  },
  {
   "cell_type": "code",
   "execution_count": null,
   "metadata": {},
   "outputs": [],
   "source": []
  }
 ],
 "metadata": {
  "kernelspec": {
   "display_name": "Python 3",
   "language": "python",
   "name": "python3"
  },
  "language_info": {
   "codemirror_mode": {
    "name": "ipython",
    "version": 3
   },
   "file_extension": ".py",
   "mimetype": "text/x-python",
   "name": "python",
   "nbconvert_exporter": "python",
   "pygments_lexer": "ipython3",
   "version": "3.7.1"
  }
 },
 "nbformat": 4,
 "nbformat_minor": 4
}
