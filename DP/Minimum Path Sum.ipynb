{
 "cells": [
  {
   "cell_type": "markdown",
   "metadata": {},
   "source": [
    "MINIMUM PATH SUM"
   ]
  },
  {
   "cell_type": "code",
   "execution_count": 2,
   "metadata": {},
   "outputs": [],
   "source": [
    "def path(arr):\n",
    "    dp = [[0]*n for i in range(m)]\n",
    "    dp[0][0] = arr[0][0]\n",
    "    for i in range(n):\n",
    "        dp[i][0] = dp[i-1][0] + arr[i][0]\n",
    "    for i in range(m):\n",
    "        dp[0][i] = dp[0][i-1] + arr[0][i]\n",
    "    for i in range(n):\n",
    "        for j in range(m):\n",
    "            dp[i][j] = min(dp[i-1][j],dp[i][j-1]) + arr[i][j]\n",
    "    return dp[n-1][m-1]"
   ]
  },
  {
   "cell_type": "code",
   "execution_count": null,
   "metadata": {},
   "outputs": [],
   "source": []
  }
 ],
 "metadata": {
  "kernelspec": {
   "display_name": "Python 3",
   "language": "python",
   "name": "python3"
  },
  "language_info": {
   "codemirror_mode": {
    "name": "ipython",
    "version": 3
   },
   "file_extension": ".py",
   "mimetype": "text/x-python",
   "name": "python",
   "nbconvert_exporter": "python",
   "pygments_lexer": "ipython3",
   "version": "3.7.1"
  }
 },
 "nbformat": 4,
 "nbformat_minor": 4
}
