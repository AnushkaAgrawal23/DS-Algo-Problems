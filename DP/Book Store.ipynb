{
 "cells": [
  {
   "cell_type": "markdown",
   "metadata": {},
   "source": [
    "BOOK STORE"
   ]
  },
  {
   "cell_type": "code",
   "execution_count": 6,
   "metadata": {},
   "outputs": [],
   "source": [
    "# Dynamic Programming - TOP Down Approach\n",
    "def books(a,left,right):\n",
    "    dp = [[-1]*(n+1) for i in range(n+1)]\n",
    "    if(right-left<=1):\n",
    "        return 0\n",
    "    if(dp[left][right]!=-1):\n",
    "        return dp[left][right]\n",
    "    ans = 0\n",
    "    for i in range(left+1,right):\n",
    "        ans = max(ans,a[left]*a[i]*a[right]+books(a,left,i)+books(a,i,right))\n",
    "    dp[left][right] = ans\n",
    "    return dp[left][right]"
   ]
  },
  {
   "cell_type": "code",
   "execution_count": null,
   "metadata": {},
   "outputs": [],
   "source": [
    "a = [1,2,3,1]\n",
    "n = len(a)\n",
    "books(a,0,n)"
   ]
  },
  {
   "cell_type": "code",
   "execution_count": null,
   "metadata": {},
   "outputs": [],
   "source": []
  }
 ],
 "metadata": {
  "kernelspec": {
   "display_name": "Python 3",
   "language": "python",
   "name": "python3"
  },
  "language_info": {
   "codemirror_mode": {
    "name": "ipython",
    "version": 3
   },
   "file_extension": ".py",
   "mimetype": "text/x-python",
   "name": "python",
   "nbconvert_exporter": "python",
   "pygments_lexer": "ipython3",
   "version": "3.7.1"
  }
 },
 "nbformat": 4,
 "nbformat_minor": 4
}
