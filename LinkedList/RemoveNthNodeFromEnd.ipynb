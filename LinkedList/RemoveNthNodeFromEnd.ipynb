{
 "cells": [
  {
   "cell_type": "code",
   "execution_count": 1,
   "metadata": {},
   "outputs": [],
   "source": [
    "# Remove Nth Node from End in LinkedList\n",
    "# Optimal Solution - Using slow and fast pointers\n",
    "# Time O(N) and Space O(1)\n",
    "\n",
    "def remove(head,n):\n",
    "    slow = self.head\n",
    "    fast = self.head\n",
    "    for i in range(n):\n",
    "        if(fast.next == None):\n",
    "            if(i == n-1):\n",
    "                self.head = self.head.next  #if index = n then delete the head node\n",
    "            return self.head\n",
    "        fast = fast.next\n",
    "    while fast.next is not None:\n",
    "        slow = slow.next \n",
    "        fast = fast.next\n",
    "    slow.next = slow.next.next\n",
    "    return head"
   ]
  },
  {
   "cell_type": "code",
   "execution_count": null,
   "metadata": {},
   "outputs": [],
   "source": []
  }
 ],
 "metadata": {
  "kernelspec": {
   "display_name": "Python 3",
   "language": "python",
   "name": "python3"
  },
  "language_info": {
   "codemirror_mode": {
    "name": "ipython",
    "version": 3
   },
   "file_extension": ".py",
   "mimetype": "text/x-python",
   "name": "python",
   "nbconvert_exporter": "python",
   "pygments_lexer": "ipython3",
   "version": "3.7.1"
  }
 },
 "nbformat": 4,
 "nbformat_minor": 4
}
