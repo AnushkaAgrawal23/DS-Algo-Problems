{
 "cells": [
  {
   "cell_type": "markdown",
   "metadata": {},
   "source": [
    "MERGE TWO SORTED LINKEDLIST - BRUTE FORCE APPROACH (NOT IN-PLACE)"
   ]
  },
  {
   "cell_type": "code",
   "execution_count": 18,
   "metadata": {},
   "outputs": [],
   "source": [
    "class Node:\n",
    "    def __init__(self,data):\n",
    "        self.data = data\n",
    "        self.next = None\n",
    "class LinkedList:\n",
    "    def __init__(self):\n",
    "        self.head = None\n",
    "    def printList(self):\n",
    "        temp = self.head\n",
    "        while temp:\n",
    "            print(temp.data,end = \" \")\n",
    "            temp = temp.next\n",
    "        print()\n",
    "    def addToList(self,newdata):\n",
    "        newnode = Node(newdata)\n",
    "        if self.head is None:\n",
    "            self.head = newnode\n",
    "            return\n",
    "        last = self.head\n",
    "        while last.next:\n",
    "            last = last.next\n",
    "        last.next = newnode\n",
    "    # Merge Two Sorted Lists\n",
    "    def mergeList(heada,headb):\n",
    "        dummy = Node(0)\n",
    "        tail = dummy\n",
    "        while True:\n",
    "            if heada is None:\n",
    "                tail.next = headb\n",
    "                break\n",
    "            if headb is None:\n",
    "                tail.next = heada\n",
    "                break\n",
    "            # Comparing the data and appending the sorted lists\n",
    "            if heada.data <= headb.data:\n",
    "                tail.next = heada\n",
    "                heada = heada.next\n",
    "            else:\n",
    "                tail.next = headb\n",
    "                headb = headb.next\n",
    "            tail = tail.next\n",
    "        return dummy.next"
   ]
  },
  {
   "cell_type": "code",
   "execution_count": 22,
   "metadata": {},
   "outputs": [
    {
     "name": "stdout",
     "output_type": "stream",
     "text": [
      "5 10 15 \n",
      "2 3 20 \n"
     ]
    }
   ],
   "source": [
    "listA = LinkedList()\n",
    "listB = LinkedList()\n",
    "listA.addToList(5)\n",
    "listA.addToList(10)\n",
    "listA.addToList(15)\n",
    "\n",
    "listB.addToList(2)\n",
    "listB.addToList(3)\n",
    "listB.addToList(20)\n",
    "\n",
    "listA.printList()\n",
    "listB.printList()\n",
    "\n",
    "listC = LinkedList()\n",
    "listC.head = listC.mergeList(listA,listB)"
   ]
  },
  {
   "cell_type": "markdown",
   "metadata": {},
   "source": [
    "OPTIMAL APPROACH - (IN-PLACE)"
   ]
  },
  {
   "cell_type": "code",
   "execution_count": 23,
   "metadata": {},
   "outputs": [],
   "source": [
    "def merge_ll(listA,listB):\n",
    "    if listA is None:\n",
    "        return listB\n",
    "    if listB is None:\n",
    "        return listA\n",
    "    if(listA.data > listB.data):\n",
    "        listA, listB = listA, listB\n",
    "    res = Node(listA)\n",
    "    while(listA is not None and listB is not None):\n",
    "        temp = Node(None)\n",
    "        while (listA is not None and listA.data <= listB.data):\n",
    "            tmp = l1\n",
    "            l1 = l1.next\n",
    "        tmp.next = l2\n",
    "        \n",
    "        listA, listB = listB, listA\n",
    "    return res\n",
    "    \n",
    "    "
   ]
  },
  {
   "cell_type": "code",
   "execution_count": null,
   "metadata": {},
   "outputs": [],
   "source": []
  }
 ],
 "metadata": {
  "kernelspec": {
   "display_name": "Python 3",
   "language": "python",
   "name": "python3"
  },
  "language_info": {
   "codemirror_mode": {
    "name": "ipython",
    "version": 3
   },
   "file_extension": ".py",
   "mimetype": "text/x-python",
   "name": "python",
   "nbconvert_exporter": "python",
   "pygments_lexer": "ipython3",
   "version": "3.7.1"
  }
 },
 "nbformat": 4,
 "nbformat_minor": 4
}
