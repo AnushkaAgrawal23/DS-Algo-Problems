{
 "cells": [
  {
   "cell_type": "code",
   "execution_count": 3,
   "metadata": {},
   "outputs": [],
   "source": [
    "# Intersection of Two LinkedList\n",
    "# Optimal Approach \n",
    "def intersection(head1,head2):\n",
    "    if (head1 == None or head2 == None):\n",
    "        return None\n",
    "    a = head1\n",
    "    b = head2\n",
    "    while (a != b):\n",
    "        if(a==None):\n",
    "            a = head2\n",
    "        elif(a is not None):\n",
    "            a = a.next\n",
    "        elif(b==None):\n",
    "            b = head1\n",
    "        else:\n",
    "            b = b.next\n",
    "    return a"
   ]
  },
  {
   "cell_type": "code",
   "execution_count": null,
   "metadata": {},
   "outputs": [],
   "source": []
  }
 ],
 "metadata": {
  "kernelspec": {
   "display_name": "Python 3",
   "language": "python",
   "name": "python3"
  },
  "language_info": {
   "codemirror_mode": {
    "name": "ipython",
    "version": 3
   },
   "file_extension": ".py",
   "mimetype": "text/x-python",
   "name": "python",
   "nbconvert_exporter": "python",
   "pygments_lexer": "ipython3",
   "version": "3.7.1"
  }
 },
 "nbformat": 4,
 "nbformat_minor": 4
}
