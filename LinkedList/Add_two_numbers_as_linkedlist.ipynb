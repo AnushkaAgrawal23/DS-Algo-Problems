{
 "cells": [
  {
   "cell_type": "code",
   "execution_count": 39,
   "metadata": {},
   "outputs": [],
   "source": [
    "# Add Two Numbers given as LinkedList\n",
    "class Node:\n",
    "    def __init__(self,data):\n",
    "        self.data = data\n",
    "        self.next = None\n",
    "class LinkedList:\n",
    "    def __init__(self):\n",
    "        self.head = None\n",
    "    def push(self,new_data):\n",
    "        new_node = Node(new_data)\n",
    "        if self.head is None:\n",
    "            self.head = new_node\n",
    "            return self.head\n",
    "        temp = self.head\n",
    "        while(temp.next):\n",
    "            temp = temp.next\n",
    "        temp.next = new_node\n",
    "        return self.head\n",
    "    def add_ll(self,l1,l2):\n",
    "        dummy = Node(0)\n",
    "        temp = dummy\n",
    "        carry = 0\n",
    "        while(l1 is not None or l2 is not None or carry):\n",
    "            sum = 0\n",
    "            if(l1 is not None):\n",
    "                sum += l1.data\n",
    "                l1 = l1.next\n",
    "            if(l2 is not None):\n",
    "                sum += l2.data\n",
    "                l2 = l2.next\n",
    "            sum += carry\n",
    "            #print(sum)\n",
    "            carry = sum//10\n",
    "            node = Node(sum % 10)\n",
    "            temp.next = node\n",
    "            temp = temp.next\n",
    "        return dummy.next\n",
    "    def printList(self):\n",
    "        if self.head is None:\n",
    "            return self.head\n",
    "        temp = self.head\n",
    "        while(temp):\n",
    "            print(temp.data,end=\" \")\n",
    "            temp = temp.next\n",
    "        print()"
   ]
  },
  {
   "cell_type": "code",
   "execution_count": 40,
   "metadata": {},
   "outputs": [
    {
     "name": "stdout",
     "output_type": "stream",
     "text": [
      "2 3 5 \n",
      "6 7 2 1 \n"
     ]
    }
   ],
   "source": [
    "l1 = LinkedList()\n",
    "l2 = LinkedList()\n",
    "\n",
    "l1.push(2)\n",
    "l1.push(3)\n",
    "l1.push(5)\n",
    "l1.printList()\n",
    "l2.push(6)\n",
    "l2.push(7)\n",
    "l2.push(2)\n",
    "l2.push(1)\n",
    "l2.printList()\n",
    "res = LinkedList()\n",
    "res.add_ll(l1.head,l2.head)\n",
    "\n",
    "res.printList()"
   ]
  },
  {
   "cell_type": "code",
   "execution_count": null,
   "metadata": {},
   "outputs": [],
   "source": []
  }
 ],
 "metadata": {
  "kernelspec": {
   "display_name": "Python 3",
   "language": "python",
   "name": "python3"
  },
  "language_info": {
   "codemirror_mode": {
    "name": "ipython",
    "version": 3
   },
   "file_extension": ".py",
   "mimetype": "text/x-python",
   "name": "python",
   "nbconvert_exporter": "python",
   "pygments_lexer": "ipython3",
   "version": "3.7.1"
  }
 },
 "nbformat": 4,
 "nbformat_minor": 4
}
