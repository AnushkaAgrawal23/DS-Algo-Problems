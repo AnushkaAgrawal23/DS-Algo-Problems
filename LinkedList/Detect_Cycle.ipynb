{
 "cells": [
  {
   "cell_type": "code",
   "execution_count": 1,
   "metadata": {},
   "outputs": [],
   "source": [
    "# Detect the Cycle in the LinkedList\n",
    "def cycle(head):\n",
    "    if (head == None or head.next == None):\n",
    "        return False\n",
    "    fast = head\n",
    "    slow = head\n",
    "    while (fast.next is not None and fast.next.next is not None):\n",
    "        slow = slow.next\n",
    "        fast = fast.next.next\n",
    "        if (slow==fast):\n",
    "            return True\n",
    "    return False"
   ]
  },
  {
   "cell_type": "code",
   "execution_count": null,
   "metadata": {},
   "outputs": [],
   "source": []
  }
 ],
 "metadata": {
  "kernelspec": {
   "display_name": "Python 3",
   "language": "python",
   "name": "python3"
  },
  "language_info": {
   "codemirror_mode": {
    "name": "ipython",
    "version": 3
   },
   "file_extension": ".py",
   "mimetype": "text/x-python",
   "name": "python",
   "nbconvert_exporter": "python",
   "pygments_lexer": "ipython3",
   "version": "3.7.1"
  }
 },
 "nbformat": 4,
 "nbformat_minor": 4
}
