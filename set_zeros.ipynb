{
 "cells": [
  {
   "cell_type": "code",
   "execution_count": 1,
   "metadata": {},
   "outputs": [],
   "source": [
    "# Maximum subarray sum - Kadane's Algorithm\n",
    "def max_subarray(arr,n):\n",
    "    sum = 0\n",
    "    maxi = float('-inf')\n",
    "    for i in arr:\n",
    "        sum += i\n",
    "        maxi = max(maxi,sum)\n",
    "        if(sum<0):\n",
    "            sum = 0\n",
    "    return maxi\n",
    "    "
   ]
  },
  {
   "cell_type": "code",
   "execution_count": 4,
   "metadata": {},
   "outputs": [
    {
     "data": {
      "text/plain": [
       "4"
      ]
     },
     "execution_count": 4,
     "metadata": {},
     "output_type": "execute_result"
    }
   ],
   "source": [
    "arr = [-2,-3,4,-1,-2,1,-5,3]\n",
    "n = len(arr)\n",
    "max_subarray(arr,n)"
   ]
  },
  {
   "cell_type": "code",
   "execution_count": 14,
   "metadata": {},
   "outputs": [],
   "source": [
    "def set_zeros(arr):\n",
    "    rows = len(arr)\n",
    "    cols = len(arr[0])\n",
    "    col0 = 1\n",
    "    for i in range(rows):\n",
    "        if(arr[i][0]==0):\n",
    "            col0 = 0\n",
    "        for j in range(1,cols):\n",
    "            if(arr[i][j]==0):\n",
    "                arr[i][0] = arr[0][j] = 0\n",
    "    for i in range(rows,-1,-1):\n",
    "        for j in range(cols,0,-1):\n",
    "            if(arr[i][0]==0 or arr[0][j]==0):\n",
    "                arr[i][j] = 0\n",
    "        if(col0==0):\n",
    "            arr[i][0] = 0\n",
    "    return arr"
   ]
  },
  {
   "cell_type": "code",
   "execution_count": null,
   "metadata": {},
   "outputs": [],
   "source": [
    "arr = [[1,1,1],[1,0,1],[1,1,1]]\n",
    "set_zeros(arr)"
   ]
  },
  {
   "cell_type": "code",
   "execution_count": null,
   "metadata": {},
   "outputs": [],
   "source": []
  }
 ],
 "metadata": {
  "kernelspec": {
   "display_name": "Python 3",
   "language": "python",
   "name": "python3"
  },
  "language_info": {
   "codemirror_mode": {
    "name": "ipython",
    "version": 3
   },
   "file_extension": ".py",
   "mimetype": "text/x-python",
   "name": "python",
   "nbconvert_exporter": "python",
   "pygments_lexer": "ipython3",
   "version": "3.7.1"
  }
 },
 "nbformat": 4,
 "nbformat_minor": 4
}
